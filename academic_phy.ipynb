{
 "cells": [
  {
   "cell_type": "code",
   "execution_count": 1,
   "metadata": {},
   "outputs": [],
   "source": [
    "import numpy as np\n",
    "import random\n",
    "from utils import *\n",
    "from train import train_2l,train_1,train_3l\n",
    "import scipy.sparse as sp\n",
    "from sklearn.preprocessing import StandardScaler\n",
    "import networkx as nx\n"
   ]
  },
  {
   "cell_type": "code",
   "execution_count": 2,
   "metadata": {},
   "outputs": [],
   "source": [
    "def get_training_adj_lists(labels, adj_lists,seed):\n",
    "    np.random.seed(seed)\n",
    "    random.seed(seed)\n",
    "    num_nodes = labels.shape[0]\n",
    "    rand_indices = np.random.permutation(num_nodes)\n",
    "    train = rand_indices[:int(num_nodes*0.6)]\n",
    "    valid = rand_indices[int(num_nodes*0.6):int(num_nodes*0.8)]\n",
    "    test = (rand_indices[int(num_nodes*0.8):])    \n",
    "    train_and_valid = rand_indices[:int(num_nodes*0.8)]\n",
    "    \n",
    "    adj_lists_train = defaultdict(set)\n",
    "    adj_lists_valid = defaultdict(set)\n",
    "    for key in adj_lists:\n",
    "        if key in train:\n",
    "            nodes = []\n",
    "            for node in adj_lists[key]:\n",
    "                if node in train:\n",
    "                    nodes.append(node)\n",
    "            nodes = set(nodes)\n",
    "            adj_lists_train[key] = nodes\n",
    "    for key in adj_lists:\n",
    "        if key in train_and_valid:\n",
    "            nodes = []\n",
    "            for node in adj_lists[key]:\n",
    "                if node in train_and_valid:\n",
    "                    nodes.append(node)\n",
    "            nodes = set(nodes)\n",
    "            adj_lists_valid[key] = nodes\n",
    "    return adj_lists_train,adj_lists_valid,train,valid,test"
   ]
  },
  {
   "cell_type": "code",
   "execution_count": 3,
   "metadata": {},
   "outputs": [],
   "source": [
    "def shuffle_edges(dict_edges,n_swap,n_try):\n",
    "    G_ = nx.Graph(dict_edges)\n",
    "    num_edges = nx.number_of_edges(G_)\n",
    "    print(num_edges)\n",
    "    print(num_edges*n_swap)\n",
    "    G_swap = nx.double_edge_swap(G_,int(n_swap*num_edges),n_try*int(n_swap*num_edges))\n",
    "    edge_list = list(nx.to_edgelist(G_swap))\n",
    "    adj_lists = defaultdict(set)\n",
    "    for i in range(len(edge_list)):\n",
    "        adj_lists[edge_list[i][0]].add(edge_list[i][1])\n",
    "        adj_lists[edge_list[i][1]].add(edge_list[i][0])    \n",
    "    return adj_lists"
   ]
  },
  {
   "cell_type": "code",
   "execution_count": 4,
   "metadata": {},
   "outputs": [],
   "source": [
    "feat_data,labels,full_adjs = load_data('academic_py',path='/home/zhihao/Document/gnn_fd/graphSage/data/')"
   ]
  },
  {
   "cell_type": "code",
   "execution_count": 17,
   "metadata": {
    "collapsed": true,
    "jupyter": {
     "outputs_hidden": true,
     "source_hidden": true
    }
   },
   "outputs": [
    {
     "name": "stdout",
     "output_type": "stream",
     "text": [
      "69\n",
      "69\n",
      "69\n",
      "69\n",
      "69\n",
      "69\n",
      "69\n",
      "69\n",
      "69\n",
      "69\n"
     ]
    }
   ],
   "source": [
    "\n",
    "results_mlp = []\n",
    "    \n",
    "for seed in range(10):\n",
    "    import torch\n",
    "    from torch import nn\n",
    "    from torch.nn import ReLU\n",
    "    \n",
    "    from torch.autograd import Variable\n",
    "    from sklearn.metrics import f1_score,accuracy_score\n",
    "    import glob\n",
    "    import os\n",
    "    import time\n",
    "    batch_size = 128\n",
    "    t_total = time.time()\n",
    "    loss_values = []\n",
    "    loss_train = []\n",
    "    bad_counter = 0\n",
    "    epochs = 100\n",
    "    best = epochs + 1\n",
    "    best_epoch = 0   \n",
    "    temp_path = './academic_phy/'\n",
    "    patience = 5\n",
    "    num_class = 5\n",
    "    hidden_num = 128\n",
    "    lr = 0.00003\n",
    "    #results = []\n",
    "    training_adjs,valid_adjs,training,validation,testing = get_training_adj_lists(labels,full_adjs,seed)\n",
    "    class MLPModel(nn.Module):\n",
    "        def __init__(self,num_classes,hidden_dim,feature_dim):\n",
    "            super(MLPModel,self).__init__()\n",
    "            self.hidden = nn.Linear(feature_dim,hidden_dim)\n",
    "            self.layer = nn.Linear(hidden_dim,num_classes)\n",
    "            self.xent = nn.CrossEntropyLoss()\n",
    "            self.act1 = ReLU()\n",
    "        def forward(self,nodes):\n",
    "            X = self.hidden(nodes)\n",
    "            X = self.act1(X)\n",
    "            scores = self.layer(X)\n",
    "            return scores\n",
    "        def loss(self,nodes,labels):\n",
    "            scores = self.forward(nodes)\n",
    "            return self.xent(scores,labels.squeeze())\n",
    "        \n",
    "    mlp = MLPModel(num_class,hidden_num,feat_data.shape[1] )\n",
    "    optimizer = torch.optim.Adam(filter(lambda p: p.requires_grad, mlp.parameters()), lr=lr)\n",
    "    \n",
    "    \n",
    "    for epoch in range(epochs):\n",
    "        random.shuffle(training)\n",
    "        num_batches = int(len(training) / batch_size) + 1\n",
    "        train_losses = []\n",
    "        start_time = time.time()\n",
    "        for batch in range(num_batches):   \n",
    "            i_start = batch * batch_size\n",
    "            i_end = min((batch + 1) * batch_size, len(training))\n",
    "            batch_nodes = training[i_start:i_end]\n",
    "            \n",
    "            optimizer.zero_grad()\n",
    "            loss = mlp.loss(Variable(torch.Tensor(feat_data[np.array(batch_nodes)])),Variable(torch.LongTensor(labels[np.array(batch_nodes)])))\n",
    "            \n",
    "            train_losses.append(loss.data.item())\n",
    "            loss.backward()\n",
    "            optimizer.step()\n",
    "    \n",
    "        \n",
    "        num_batches_valid = int(len(validation) / batch_size) \n",
    "        valid_losses = []\n",
    "        for batch in range(num_batches_valid):\n",
    "            i_start = batch * batch_size\n",
    "            i_end = min((batch + 1) * batch_size, len(validation))\n",
    "            batch_nodes = validation[i_start:i_end]\n",
    "    \n",
    "            loss = mlp.loss(Variable(torch.Tensor(feat_data[np.array(batch_nodes)])),Variable(torch.LongTensor(labels[np.array(batch_nodes)])))\n",
    "            \n",
    "            valid_losses.append(loss.data.item())\n",
    "       \n",
    "        \n",
    "        loss_train.append(np.average(train_losses))\n",
    "        loss_values.append(np.average(valid_losses))\n",
    "        torch.save(mlp.state_dict(),temp_path+'{}.pkl'.format(epoch))\n",
    "        if loss_values[-1] < best:\n",
    "            best = loss_values[-1]\n",
    "            best_epoch = epoch \n",
    "            bad_counter = 0\n",
    "        else:\n",
    "            bad_counter += 1\n",
    "        if bad_counter == patience:\n",
    "            break\n",
    "        files = glob.glob(temp_path+'*.pkl')\n",
    "        for file in files:\n",
    "            epoch_nb = int(file[len(temp_path):].split('.')[0])\n",
    "            if epoch_nb < best_epoch:\n",
    "                os.remove(file)\n",
    "    files = glob.glob(temp_path+'*.pkl')\n",
    "    for file in files:\n",
    "        epoch_nb = int(file[len(temp_path):].split('.')[0])\n",
    "        if epoch_nb > best_epoch:\n",
    "            os.remove(file)\n",
    "    #print(\"Optimization Finished!\")\n",
    "    #print(\"Total time elapsed: {:.4f}s\".format(time.time() - t_total))\n",
    "    mlp.load_state_dict(torch.load(temp_path+'{}.pkl'.format(best_epoch)))        \n",
    "    print(best_epoch)\n",
    "    \n",
    "    num_batches_test = int(len(testing) / batch_size) \n",
    "    test_outputs = []\n",
    "    test_labels = []\n",
    "    for batch in range(num_batches_test):\n",
    "        i_start = batch * batch_size\n",
    "        i_end = (batch + 1) * batch_size\n",
    "        batch_nodes = testing[i_start:i_end]\n",
    "        test_output = torch.zeros(batch_size,num_class)\n",
    "        for i in range(3):\n",
    "            test_output = test_output + mlp.forward(torch.Tensor(feat_data[np.array(batch_nodes)]))\n",
    "        \n",
    "        test_outputs.extend(list(test_output.data.cpu().numpy().argmax(axis=1)))\n",
    "        test_labels.extend(list(labels[batch_nodes]))\n",
    "        \n",
    "    accuracy_score(test_labels,test_outputs)\n",
    "    results_mlp.append([loss_train,loss_values,accuracy_score(test_labels,test_outputs)])"
   ]
  },
  {
   "cell_type": "code",
   "execution_count": 18,
   "metadata": {
    "jupyter": {
     "source_hidden": true
    },
    "tags": []
   },
   "outputs": [],
   "source": [
    "results_sagegcn_0 = []\n",
    "for seed in range(10):\n",
    "    training_adjs,valid_adjs,training,validation,testing = get_training_adj_lists(labels,full_adjs,seed)\n",
    "    #full_adjs,training_adjs,valid_adjs,training,validation,testing = get_training_adj_lists(labels,adj,seed)\n",
    "    \n",
    "    new_adjs = {}\n",
    "    for key in full_adjs:\n",
    "        neighbs_set = full_adjs[key] | set([key])\n",
    "        n_list = []\n",
    "        for node in neighbs_set:\n",
    "            n_list.extend(full_adjs[node] & neighbs_set)\n",
    "        new_adjs[key] = set()\n",
    "        \n",
    "        neighbs_set.remove(key)\n",
    "        for node in neighbs_set:\n",
    "            new_adjs[key].add((node,n_list.count(node)))\n",
    "    new_training_adjs = {}\n",
    "    for key in training_adjs:\n",
    "        neighbs_set = training_adjs[key] | set([key])\n",
    "        n_list = []\n",
    "        for node in neighbs_set:\n",
    "            n_list.extend(training_adjs[node] & neighbs_set)\n",
    "        new_training_adjs[key] = set()\n",
    "        \n",
    "        neighbs_set.remove(key)\n",
    "        for node in neighbs_set:\n",
    "            new_training_adjs[key].add((node,n_list.count(node)))\n",
    "    \n",
    "    results_sagegcn_0.append(train_1(False,True,feat_data,labels,new_adjs,new_training_adjs,new_adjs,training,validation,testing,10,20,0,100,5,5,'./academic_phy/',hidden=128,lr=0.00003,batch_size=128)\n",
    ")"
   ]
  },
  {
   "cell_type": "code",
   "execution_count": 13,
   "metadata": {
    "collapsed": true,
    "jupyter": {
     "outputs_hidden": true,
     "source_hidden": true
    },
    "tags": []
   },
   "outputs": [
    {
     "name": "stdout",
     "output_type": "stream",
     "text": [
      "247962\n",
      "0.0\n",
      "247962\n",
      "12398.1\n",
      "247962\n",
      "24796.2\n",
      "247962\n",
      "37194.3\n",
      "247962\n",
      "49592.4\n",
      "247962\n",
      "61990.5\n",
      "247962\n",
      "74388.6\n",
      "247962\n",
      "86786.70000000001\n",
      "247962\n",
      "99184.8\n"
     ]
    }
   ],
   "source": [
    "ratio_list = [x*0.05 for x in range(9)]\n",
    "results_0 = []\n",
    "num = 6\n",
    "for ratio in ratio_list:\n",
    "    full_adjs_shuffle = shuffle_edges(full_adjs,ratio,10)\n",
    "    results_sagegcn_0 = []\n",
    "    for seed in range(num):\n",
    "        training_adjs,valid_adjs,training,validation,testing = get_training_adj_lists(labels,full_adjs_shuffle,seed)\n",
    "        \n",
    "        new_adjs = {}\n",
    "        for key in full_adjs_shuffle:\n",
    "            neighbs_set = full_adjs_shuffle[key] | set([key])\n",
    "            n_list = []\n",
    "            for node in neighbs_set:\n",
    "                n_list.extend(full_adjs_shuffle[node] & neighbs_set)\n",
    "            new_adjs[key] = set()\n",
    "            \n",
    "            neighbs_set.remove(key)\n",
    "            for node in neighbs_set:\n",
    "                new_adjs[key].add((node,n_list.count(node)))\n",
    "        new_training_adjs = {}\n",
    "        for key in training_adjs:\n",
    "            neighbs_set = training_adjs[key] | set([key])\n",
    "            n_list = []\n",
    "            for node in neighbs_set:\n",
    "                n_list.extend(training_adjs[node] & neighbs_set)\n",
    "            new_training_adjs[key] = set()\n",
    "            \n",
    "            neighbs_set.remove(key)\n",
    "            for node in neighbs_set:\n",
    "                new_training_adjs[key].add((node,n_list.count(node)))\n",
    "        \n",
    "        results_sagegcn_0.append(train_1(False,True,feat_data,labels,new_adjs,new_training_adjs,new_adjs,training,validation,testing,10,20,0,100,5,5,'./academic_phy/',hidden=128,lr=0.00003,batch_size=128))\n",
    "    result_0 = []\n",
    "    for i in range(num):\n",
    "        result_0.append(results_sagegcn_0[i][2])\n",
    "    results_0.append(result_0)\n",
    "\n"
   ]
  },
  {
   "cell_type": "code",
   "execution_count": 19,
   "metadata": {
    "jupyter": {
     "source_hidden": true
    },
    "tags": []
   },
   "outputs": [],
   "source": [
    "results_sagegcn_best = []\n",
    "for seed in range(10):\n",
    "    training_adjs,valid_adjs,training,validation,testing = get_training_adj_lists(labels,full_adjs,seed)\n",
    "    \n",
    "    new_adjs = {}\n",
    "    for key in full_adjs:\n",
    "        neighbs_set = full_adjs[key] | set([key])\n",
    "        n_list = []\n",
    "        for node in neighbs_set:\n",
    "            n_list.extend(full_adjs[node] & neighbs_set)\n",
    "        new_adjs[key] = set()\n",
    "        \n",
    "        neighbs_set.remove(key)\n",
    "        for node in neighbs_set:\n",
    "            new_adjs[key].add((node,n_list.count(node)))\n",
    "    new_training_adjs = {}\n",
    "    for key in training_adjs:\n",
    "        neighbs_set = training_adjs[key] | set([key])\n",
    "        n_list = []\n",
    "        for node in neighbs_set:\n",
    "            n_list.extend(training_adjs[node] & neighbs_set)\n",
    "        new_training_adjs[key] = set()\n",
    "        \n",
    "        neighbs_set.remove(key)\n",
    "        for node in neighbs_set:\n",
    "            new_training_adjs[key].add((node,n_list.count(node)))\n",
    "            \n",
    "    res = train_1(False,True,feat_data,labels,new_adjs,new_training_adjs,new_adjs,training,validation,testing,10,20,4.5,100,5,5,'./academic_phy/',hidden=128,lr=0.00003,batch_size=128)   \n",
    "    for i in range(10,13):\n",
    "        temp = train_1(False,True,feat_data,labels,new_adjs,new_training_adjs,new_adjs,training,validation,testing,10,20,0.5*i,100,5,5,'./academic_phy/',hidden=128,lr=0.00003,batch_size=128)\n",
    "        if res[2] < temp[2]:\n",
    "            res = temp \n",
    "    \n",
    "    results_sagegcn_best.append(res)\n",
    "\n",
    "\n",
    "\n",
    "\n",
    "\n",
    "\n",
    "\n"
   ]
  },
  {
   "cell_type": "code",
   "execution_count": null,
   "metadata": {},
   "outputs": [
    {
     "name": "stdout",
     "output_type": "stream",
     "text": [
      "247962\n",
      "0.0\n",
      "247962\n",
      "12398.1\n",
      "247962\n",
      "24796.2\n",
      "247962\n",
      "37194.3\n",
      "247962\n",
      "49592.4\n"
     ]
    }
   ],
   "source": [
    "ratio_list = [x*0.05 for x in range(9)]\n",
    "results_best = []\n",
    "results_best_r = []\n",
    "num = 6\n",
    "for ratio in ratio_list:\n",
    "    full_adjs_shuffle = shuffle_edges(full_adjs,ratio,10)\n",
    "    results_sagegcn_best = []\n",
    "    results_sagegcn_best_r = []\n",
    "    for seed in range(num):\n",
    "        training_adjs,valid_adjs,training,validation,testing = get_training_adj_lists(labels,full_adjs_shuffle,seed)\n",
    "        \n",
    "        new_adjs = {}\n",
    "        for key in full_adjs_shuffle:\n",
    "            neighbs_set = full_adjs_shuffle[key] | set([key])\n",
    "            n_list = []\n",
    "            for node in neighbs_set:\n",
    "                n_list.extend(full_adjs_shuffle[node] & neighbs_set)\n",
    "            new_adjs[key] = set()\n",
    "            \n",
    "            neighbs_set.remove(key)\n",
    "            for node in neighbs_set:\n",
    "                new_adjs[key].add((node,n_list.count(node)))\n",
    "        new_training_adjs = {}\n",
    "        for key in training_adjs:\n",
    "            neighbs_set = training_adjs[key] | set([key])\n",
    "            n_list = []\n",
    "            for node in neighbs_set:\n",
    "                n_list.extend(training_adjs[node] & neighbs_set)\n",
    "            new_training_adjs[key] = set()\n",
    "            \n",
    "            neighbs_set.remove(key)\n",
    "            for node in neighbs_set:\n",
    "                new_training_adjs[key].add((node,n_list.count(node)))\n",
    "        res = train_1(False,True,feat_data,labels,new_adjs,new_training_adjs,new_adjs,training,validation,testing,10,20,4.5,100,5,5,'./academic_phy/',hidden=128,lr=0.00003,batch_size=128)   \n",
    "        r = 4.5\n",
    "        for i in range(10,13):\n",
    "            temp = train_1(False,True,feat_data,labels,new_adjs,new_training_adjs,new_adjs,training,validation,testing,10,20,0.5*i,100,5,5,'./academic_phy/',hidden=128,lr=0.00003,batch_size=128)\n",
    "            if res[2] < temp[2]:\n",
    "                res = temp    \n",
    "                r = i * 0.5\n",
    "        results_sagegcn_best.append(res)\n",
    "        results_sagegcn_best_r.append(r)\n",
    "    \n",
    "    result_best = []\n",
    "    for i in range(num):\n",
    "        result_best.append(results_sagegcn_best[i][2])\n",
    "    results_best.append(result_best)\n",
    "    results_best_r.append(results_sagegcn_best_r)\n",
    "\n"
   ]
  },
  {
   "cell_type": "code",
   "execution_count": null,
   "metadata": {},
   "outputs": [],
   "source": [
    "import pickle\n",
    "def save_list(path,list_):\n",
    "    file = open(path,'wb')\n",
    "    pickle.dump(list_,file)\n",
    "    file.close()"
   ]
  },
  {
   "cell_type": "code",
   "execution_count": 25,
   "metadata": {},
   "outputs": [],
   "source": [
    "save_list('/home/zhihao/Document/gnn_fd/graphSage/split/multihead/results/coauthor_phy/mlp.pkl',results_mlp)"
   ]
  },
  {
   "cell_type": "code",
   "execution_count": 16,
   "metadata": {},
   "outputs": [],
   "source": [
    "save_list('/home/zhihao/Document/gnn_fd/graphSage/split/multihead/results/coauthor_phy/sage_0_randomedge.pkl',results_0)"
   ]
  },
  {
   "cell_type": "code",
   "execution_count": 17,
   "metadata": {},
   "outputs": [],
   "source": [
    "save_list('/home/zhihao/Document/gnn_fd/graphSage/split/multihead/results/coauthor_phy/sage_best_randomedge.pkl',results_best)"
   ]
  },
  {
   "cell_type": "code",
   "execution_count": null,
   "metadata": {},
   "outputs": [],
   "source": [
    "save_list('/home/zhihao/Document/gnn_fd/graphSage/split/multihead/results/coauthor_phy/sage_best_randomedge_r.pkl',results_best_r)"
   ]
  },
  {
   "cell_type": "code",
   "execution_count": 66,
   "metadata": {},
   "outputs": [
    {
     "data": {
      "text/plain": [
       "'/home/zhihao/Document/gnn_fd/graphSage/split/multihead/NCGNN_reorderedge'"
      ]
     },
     "execution_count": 66,
     "metadata": {},
     "output_type": "execute_result"
    }
   ],
   "source": [
    "pwd"
   ]
  },
  {
   "cell_type": "code",
   "execution_count": null,
   "metadata": {},
   "outputs": [],
   "source": []
  },
  {
   "cell_type": "code",
   "execution_count": null,
   "metadata": {},
   "outputs": [],
   "source": []
  },
  {
   "cell_type": "code",
   "execution_count": 28,
   "metadata": {},
   "outputs": [],
   "source": [
    "training_adjs,valid_adjs,training,validation,testing = get_training_adj_lists(labels,full_adjs,0)"
   ]
  },
  {
   "cell_type": "code",
   "execution_count": 29,
   "metadata": {},
   "outputs": [
    {
     "name": "stdout",
     "output_type": "stream",
     "text": [
      "53\n"
     ]
    }
   ],
   "source": [
    "batch_size = 128\n",
    "t_total = time.time()\n",
    "loss_values = []\n",
    "loss_train = []\n",
    "bad_counter = 0\n",
    "epochs = 100\n",
    "best = epochs + 1\n",
    "best_epoch = 0   \n",
    "temp_path = './academic_phy/'\n",
    "patience = 100\n",
    "num_class = 5\n",
    "hidden_num = 128\n",
    "lr = 0.00003\n",
    "\n",
    "mlp = MLPModel(num_class,hidden_num,feat_data.shape[1] )\n",
    "optimizer = torch.optim.Adam(filter(lambda p: p.requires_grad, mlp.parameters()), lr=lr)\n",
    "\n",
    "\n",
    "for epoch in range(epochs):\n",
    "    random.shuffle(training)\n",
    "    num_batches = int(len(training) / batch_size) + 1\n",
    "    train_losses = []\n",
    "    start_time = time.time()\n",
    "    for batch in range(num_batches):   \n",
    "        i_start = batch * batch_size\n",
    "        i_end = min((batch + 1) * batch_size, len(training))\n",
    "        batch_nodes = training[i_start:i_end]\n",
    "        \n",
    "        optimizer.zero_grad()\n",
    "        loss = mlp.loss(Variable(torch.Tensor(feat_data[np.array(batch_nodes)])),Variable(torch.LongTensor(labels[np.array(batch_nodes)])))\n",
    "        \n",
    "        train_losses.append(loss.data.item())\n",
    "        loss.backward()\n",
    "        optimizer.step()\n",
    "\n",
    "    \n",
    "    num_batches_valid = int(len(validation) / batch_size) \n",
    "    valid_losses = []\n",
    "    for batch in range(num_batches_valid):\n",
    "        i_start = batch * batch_size\n",
    "        i_end = min((batch + 1) * batch_size, len(validation))\n",
    "        batch_nodes = validation[i_start:i_end]\n",
    "        loss = mlp.loss(Variable(torch.Tensor(feat_data[np.array(batch_nodes)])),Variable(torch.LongTensor(labels[np.array(batch_nodes)])))\n",
    "        valid_losses.append(loss.data.item())\n",
    "\n",
    "    \n",
    "    loss_train.append(np.average(train_losses))\n",
    "    loss_values.append(np.average(valid_losses))\n",
    "    torch.save(mlp.state_dict(),temp_path+'{}.pkl'.format(epoch))\n",
    "    if loss_values[-1] < best:\n",
    "        best = loss_values[-1]\n",
    "        best_epoch = epoch \n",
    "        bad_counter = 0\n",
    "    else:\n",
    "        bad_counter += 1\n",
    "    if bad_counter == patience:\n",
    "        break\n",
    "    files = glob.glob(temp_path+'*.pkl')\n",
    "    for file in files:\n",
    "        epoch_nb = int(file[len(temp_path):].split('.')[0])\n",
    "        if epoch_nb < best_epoch:\n",
    "            os.remove(file)\n",
    "files = glob.glob(temp_path+'*.pkl')\n",
    "for file in files:\n",
    "    epoch_nb = int(file[len(temp_path):].split('.')[0])\n",
    "    if epoch_nb > best_epoch:\n",
    "        os.remove(file)\n",
    "mlp.load_state_dict(torch.load(temp_path+'{}.pkl'.format(best_epoch)))        \n",
    "print(best_epoch)\n",
    "\n",
    "num_batches_test = int(len(testing) / batch_size) \n",
    "test_outputs = []\n",
    "test_labels = []\n",
    "for batch in range(num_batches_test):\n",
    "    i_start = batch * batch_size\n",
    "    i_end = (batch + 1) * batch_size\n",
    "    batch_nodes = testing[i_start:i_end]\n",
    "    test_output = torch.zeros(batch_size,num_class)\n",
    "    for i in range(3):\n",
    "        test_output = test_output + mlp.forward(torch.Tensor(feat_data[np.array(batch_nodes)]))\n",
    "    test_outputs.extend(list(test_output.data.cpu().numpy().argmax(axis=1)))\n",
    "    test_labels.extend(list(labels[batch_nodes]))\n",
    "    \n",
    "loss_mlp = [loss_train,loss_values]"
   ]
  },
  {
   "cell_type": "code",
   "execution_count": 31,
   "metadata": {},
   "outputs": [],
   "source": [
    "    new_adjs = {}\n",
    "    for key in full_adjs:\n",
    "        neighbs_set = full_adjs[key] | set([key])\n",
    "        n_list = []\n",
    "        for node in neighbs_set:\n",
    "            n_list.extend(full_adjs[node] & neighbs_set)\n",
    "        new_adjs[key] = set()\n",
    "        \n",
    "        neighbs_set.remove(key)\n",
    "        for node in neighbs_set:\n",
    "            new_adjs[key].add((node,n_list.count(node)))\n",
    "    new_training_adjs = {}\n",
    "    for key in training_adjs:\n",
    "        neighbs_set = training_adjs[key] | set([key])\n",
    "        n_list = []\n",
    "        for node in neighbs_set:\n",
    "            n_list.extend(training_adjs[node] & neighbs_set)\n",
    "        new_training_adjs[key] = set()\n",
    "        \n",
    "        neighbs_set.remove(key)\n",
    "        for node in neighbs_set:\n",
    "            new_training_adjs[key].add((node,n_list.count(node)))\n",
    "    \n",
    "    loss_sage = train_1(False,True,feat_data,labels,new_adjs,new_training_adjs,new_adjs,training,validation,testing,10,20,0,100,100,5,'./academic_phy/',hidden=128,lr=0.00003,batch_size=128)"
   ]
  },
  {
   "cell_type": "code",
   "execution_count": 32,
   "metadata": {},
   "outputs": [],
   "source": [
    "    #new_adjs = {}\n",
    "    #for key in full_adjs:\n",
    "    #    neighbs_set = full_adjs[key] | set([key])\n",
    "    #    n_list = []\n",
    "    #    for node in neighbs_set:\n",
    "    #        n_list.extend(full_adjs[node] & neighbs_set)\n",
    "    #    new_adjs[key] = set()\n",
    "    #    \n",
    "    #    neighbs_set.remove(key)\n",
    "    #    for node in neighbs_set:\n",
    "    #        new_adjs[key].add((node,n_list.count(node)))\n",
    "    #new_training_adjs = {}\n",
    "    #for key in training_adjs:\n",
    "    #    neighbs_set = training_adjs[key] | set([key])\n",
    "    #    n_list = []\n",
    "    #    for node in neighbs_set:\n",
    "    #        n_list.extend(training_adjs[node] & neighbs_set)\n",
    "    #    new_training_adjs[key] = set()\n",
    "    #    \n",
    "    #    neighbs_set.remove(key)\n",
    "    #    for node in neighbs_set:\n",
    "    #        new_training_adjs[key].add((node,n_list.count(node)))\n",
    "    \n",
    "    loss_ncgnn = train_1(False,True,feat_data,labels,new_adjs,new_training_adjs,new_adjs,training,validation,testing,10,20,5,100,100,5,'./academic_phy/',hidden=128,lr=0.00003,batch_size=128)"
   ]
  },
  {
   "cell_type": "code",
   "execution_count": 34,
   "metadata": {},
   "outputs": [
    {
     "data": {
      "image/png": "[encoded data removed]",
      "text/plain": [
       "<Figure size 3600x2400 with 1 Axes>"
      ]
     },
     "metadata": {
      "needs_background": "light"
     },
     "output_type": "display_data"
    }
   ],
   "source": [
    "import matplotlib.pyplot as plt\n",
    "with plt.style.context(['ieee']): \n",
    "    fig, ax = plt.subplots(figsize=(6,4))\n",
    "\n",
    "    ax.plot(loss_ncgnn[0],'-',color='b',label='Validation loss (NC-GNN)')\n",
    "    ax.plot(loss_ncgnn[1],'-',color='r',label='Validation loss (GraphSAGE)')\n",
    "    ax.plot(loss_sage[0],'--',color='dodgerblue',label='Training loss (NC-GNN)')\n",
    "    ax.plot(loss_sage[1],'--',color='salmon',label='Training loss (GraphSAGE)')\n",
    "    ax.legend(fontsize=10,loc=1,frameon=False)"
   ]
  },
  {
   "cell_type": "code",
   "execution_count": 37,
   "metadata": {},
   "outputs": [],
   "source": [
    "save_list('/Users/zhihaodong/Downloads/Document/gnn_fd/graphSage/split/multihead/results/coauthor_phy/loss.pkl',[loss_mlp,loss_sage,loss_ncgnn])"
   ]
  },
  {
   "cell_type": "code",
   "execution_count": null,
   "metadata": {},
   "outputs": [],
   "source": []
  },
  {
   "cell_type": "code",
   "execution_count": null,
   "metadata": {},
   "outputs": [],
   "source": []
  },
  {
   "cell_type": "code",
   "execution_count": 8,
   "metadata": {},
   "outputs": [],
   "source": [
    "training_adjs,valid_adjs,training,validation,testing = get_training_adj_lists(labels,full_adjs,0)"
   ]
  },
  {
   "cell_type": "code",
   "execution_count": 10,
   "metadata": {},
   "outputs": [
    {
     "name": "stdout",
     "output_type": "stream",
     "text": [
      "0\n",
      "1\n",
      "2\n",
      "3\n",
      "4\n",
      "5\n",
      "6\n",
      "7\n",
      "8\n",
      "9\n",
      "10\n",
      "11\n",
      "12\n",
      "13\n",
      "14\n",
      "15\n",
      "16\n",
      "17\n",
      "18\n",
      "19\n"
     ]
    }
   ],
   "source": [
    "    acc_lists = []    \n",
    "    #new_adjs = {}\n",
    "    #for key in full_adjs:\n",
    "    #    neighbs_set = full_adjs[key] | set([key])\n",
    "    #    n_list = []\n",
    "    #    for node in neighbs_set:\n",
    "    #        n_list.extend(full_adjs[node] & neighbs_set)\n",
    "    #    new_adjs[key] = set()\n",
    "    #    \n",
    "    #    neighbs_set.remove(key)\n",
    "    #    for node in neighbs_set:\n",
    "    #        new_adjs[key].add((node,n_list.count(node)))\n",
    "    #new_training_adjs = {}\n",
    "    #for key in training_adjs:\n",
    "    #    neighbs_set = training_adjs[key] | set([key])\n",
    "    #    n_list = []\n",
    "    #    for node in neighbs_set:\n",
    "    #        n_list.extend(training_adjs[node] & neighbs_set)\n",
    "    #    new_training_adjs[key] = set()\n",
    "    #    \n",
    "    #    neighbs_set.remove(key)\n",
    "    #    for node in neighbs_set:\n",
    "    #        new_training_adjs[key].add((node,n_list.count(node)))\n",
    "            \n",
    "    for j in range(20):\n",
    "        print(j)\n",
    "        acc_list = []\n",
    "        for i in range(0,11):\n",
    "            acc_list.append(train_1(False,True,feat_data,labels,new_adjs,new_training_adjs,new_adjs,training,validation,testing,10,20,0.5*i,100,5,5,'./academic_phy/',hidden=128,lr=0.00003,batch_size=128)[2])\n",
    "        acc_lists.append(acc_list)"
   ]
  },
  {
   "cell_type": "code",
   "execution_count": 21,
   "metadata": {},
   "outputs": [
    {
     "name": "stdout",
     "output_type": "stream",
     "text": [
      "0\n",
      "1\n",
      "2\n",
      "3\n",
      "4\n",
      "5\n",
      "6\n",
      "7\n",
      "8\n",
      "9\n",
      "10\n",
      "11\n",
      "12\n",
      "13\n",
      "14\n",
      "15\n",
      "16\n",
      "17\n",
      "18\n",
      "19\n"
     ]
    }
   ],
   "source": [
    "    acc_lists_com = []    \n",
    "    #new_adjs = {}\n",
    "    #for key in full_adjs:\n",
    "    #    neighbs_set = full_adjs[key] | set([key])\n",
    "    #    n_list = []\n",
    "    #    for node in neighbs_set:\n",
    "    #        n_list.extend(full_adjs[node] & neighbs_set)\n",
    "    #    new_adjs[key] = set()\n",
    "    #    \n",
    "    #    neighbs_set.remove(key)\n",
    "    #    for node in neighbs_set:\n",
    "    #        new_adjs[key].add((node,n_list.count(node)))\n",
    "    #new_training_adjs = {}\n",
    "    #for key in training_adjs:\n",
    "    #    neighbs_set = training_adjs[key] | set([key])\n",
    "    #    n_list = []\n",
    "    #    for node in neighbs_set:\n",
    "    #        n_list.extend(training_adjs[node] & neighbs_set)\n",
    "    #    new_training_adjs[key] = set()\n",
    "    #    \n",
    "    #    neighbs_set.remove(key)\n",
    "    #    for node in neighbs_set:\n",
    "    #        new_training_adjs[key].add((node,n_list.count(node)))\n",
    "            \n",
    "    for j in range(20):\n",
    "        print(j)\n",
    "        acc_list = []\n",
    "        for i in range(11,13):\n",
    "            acc_list.append(train_1(False,True,feat_data,labels,new_adjs,new_training_adjs,new_adjs,training,validation,testing,10,20,0.5*i,100,5,5,'./academic_phy/',hidden=128,lr=0.00003,batch_size=128)[2])\n",
    "        acc_lists_com.append(acc_list)"
   ]
  },
  {
   "cell_type": "code",
   "execution_count": 28,
   "metadata": {},
   "outputs": [],
   "source": [
    "acc_list_new = []\n",
    "for i in range(len(acc_lists)):\n",
    "    j = acc_lists[i] + acc_lists_com[i]\n",
    "    acc_list_new.append(j)"
   ]
  },
  {
   "cell_type": "code",
   "execution_count": 30,
   "metadata": {},
   "outputs": [
    {
     "data": {
      "text/plain": [
       "[0.9540094339622641,\n",
       " 0.9554834905660378,\n",
       " 0.9599056603773585,\n",
       " 0.9610849056603774,\n",
       " 0.9609375,\n",
       " 0.9622641509433962,\n",
       " 0.9635908018867925,\n",
       " 0.965064858490566,\n",
       " 0.9644752358490566,\n",
       " 0.9658018867924528,\n",
       " 0.9665389150943396,\n",
       " 0.9658018867924528,\n",
       " 0.9665389150943396]"
      ]
     },
     "execution_count": 30,
     "metadata": {},
     "output_type": "execute_result"
    }
   ],
   "source": [
    "(acc_list_new[0])"
   ]
  },
  {
   "cell_type": "code",
   "execution_count": 26,
   "metadata": {},
   "outputs": [
    {
     "data": {
      "text/plain": [
       "[1, 2, 3, 4]"
      ]
     },
     "execution_count": 26,
     "metadata": {},
     "output_type": "execute_result"
    }
   ],
   "source": [
    "a = [1,2]+([3,4])\n",
    "a"
   ]
  },
  {
   "cell_type": "code",
   "execution_count": 31,
   "metadata": {},
   "outputs": [],
   "source": [
    "acc_array = np.array(acc_list_new)"
   ]
  },
  {
   "cell_type": "code",
   "execution_count": 32,
   "metadata": {},
   "outputs": [
    {
     "data": {
      "text/plain": [
       "(20, 13)"
      ]
     },
     "execution_count": 32,
     "metadata": {},
     "output_type": "execute_result"
    }
   ],
   "source": [
    "acc_array.shape"
   ]
  },
  {
   "cell_type": "code",
   "execution_count": 33,
   "metadata": {},
   "outputs": [],
   "source": [
    "import matplotlib.pyplot as plt"
   ]
  },
  {
   "cell_type": "code",
   "execution_count": 34,
   "metadata": {},
   "outputs": [
    {
     "data": {
      "text/plain": [
       "[<matplotlib.lines.Line2D at 0x7fb8808e56a0>]"
      ]
     },
     "execution_count": 34,
     "metadata": {},
     "output_type": "execute_result"
    },
    {
     "data": {
      "image/png": "[encoded data removed]",
      "text/plain": [
       "<Figure size 432x288 with 1 Axes>"
      ]
     },
     "metadata": {
      "needs_background": "light"
     },
     "output_type": "display_data"
    }
   ],
   "source": [
    "plt.plot(np.mean(acc_array,axis=0))"
   ]
  },
  {
   "cell_type": "code",
   "execution_count": 35,
   "metadata": {},
   "outputs": [
    {
     "data": {
      "text/plain": [
       "<matplotlib.collections.PolyCollection at 0x7fb880548ca0>"
      ]
     },
     "execution_count": 35,
     "metadata": {},
     "output_type": "execute_result"
    },
    {
     "data": {
      "image/png": "[encoded data removed]",
      "text/plain": [
       "<Figure size 432x288 with 1 Axes>"
      ]
     },
     "metadata": {
      "needs_background": "light"
     },
     "output_type": "display_data"
    }
   ],
   "source": [
    "plt.plot([i*0.1 for i in range(13)],np.mean(acc_array,axis=0),'--')\n",
    "plt.plot([i*0.1 for i in range(13)],np.mean(acc_array,axis=0),'.')\n",
    "plt.fill_between([i*0.1 for i in range(13)],np.mean(acc_array,axis=0)-np.std(acc_array,axis=0),np.mean(acc_array,axis=0)+np.std(acc_array,axis=0),color='steelblue',alpha=0.15)\n"
   ]
  },
  {
   "cell_type": "code",
   "execution_count": 36,
   "metadata": {},
   "outputs": [],
   "source": [
    "save_list('/home/zhihao/Document/gnn_fd/graphSage/split/multihead/results/coauthor_phy/acc_array_20.pkl',acc_array)"
   ]
  },
  {
   "cell_type": "code",
   "execution_count": null,
   "metadata": {},
   "outputs": [],
   "source": []
  },
  {
   "cell_type": "code",
   "execution_count": 36,
   "metadata": {},
   "outputs": [
    {
     "data": {
      "text/plain": [
       "9"
      ]
     },
     "execution_count": 36,
     "metadata": {},
     "output_type": "execute_result"
    }
   ],
   "source": [
    "a = 9\n",
    "a"
   ]
  },
  {
   "cell_type": "code",
   "execution_count": 37,
   "metadata": {},
   "outputs": [
    {
     "data": {
      "text/plain": [
       "-9"
      ]
     },
     "execution_count": 37,
     "metadata": {},
     "output_type": "execute_result"
    }
   ],
   "source": [
    "-a"
   ]
  },
  {
   "cell_type": "code",
   "execution_count": 39,
   "metadata": {},
   "outputs": [],
   "source": [
    "from sklearn.decomposition import PCA\n",
    "from sklearn.ensemble import RandomForestClassifier\n",
    "pca = PCA(n_components=300)"
   ]
  },
  {
   "cell_type": "code",
   "execution_count": 40,
   "metadata": {},
   "outputs": [
    {
     "name": "stdout",
     "output_type": "stream",
     "text": [
      "CPU times: user 4min 2s, sys: 13.4 s, total: 4min 15s\n",
      "Wall time: 14.4 s\n"
     ]
    }
   ],
   "source": [
    "%time feat_data_half = pca.fit_transform(feat_data)"
   ]
  },
  {
   "cell_type": "code",
   "execution_count": 41,
   "metadata": {},
   "outputs": [
    {
     "data": {
      "text/plain": [
       "RandomForestClassifier(n_jobs=-1)"
      ]
     },
     "execution_count": 41,
     "metadata": {},
     "output_type": "execute_result"
    }
   ],
   "source": [
    "rand_clf = RandomForestClassifier(n_estimators=100,n_jobs=-1)\n",
    "rand_clf.fit(feat_data,labels.squeeze())"
   ]
  },
  {
   "cell_type": "code",
   "execution_count": 42,
   "metadata": {},
   "outputs": [],
   "source": [
    "a = rand_clf.feature_importances_"
   ]
  },
  {
   "cell_type": "code",
   "execution_count": 43,
   "metadata": {},
   "outputs": [
    {
     "data": {
      "text/plain": [
       "array([4952, 6208, 1469, 2371, 2029,  228, 4060, 3013, 2283, 7586, 7405,\n",
       "       4839, 5640, 4402, 7786,  501, 3851, 3551, 3233,  395, 5137, 3869,\n",
       "        662,  537, 1480, 4546, 2234, 5073, 3454, 5058, 5242, 3464, 4031,\n",
       "       4694, 3944, 4983, 5200, 5336, 6049, 5323, 4807, 1634, 4380, 2662,\n",
       "       2167, 7793, 2836, 5066, 3693, 3240, 3034, 5070, 2511, 3697, 3887,\n",
       "       3899, 6214, 6144, 2124, 5492, 5132, 2208, 3325, 3283, 6218, 6321,\n",
       "       1680, 3207, 6194, 7758, 5004, 7315, 3961, 4068, 7303, 4520, 4064,\n",
       "       7209, 7174, 3333, 7515, 8095, 6331, 7219, 2785, 1473, 8375, 1210,\n",
       "       5076, 7306, 6137, 5223,  408, 7304, 6127, 6124, 7096, 1105, 7845,\n",
       "       5182, 6146, 2245, 5308, 4360, 5178, 1277, 3262, 5172, 3008, 3009,\n",
       "       7357, 4403, 5169, 5391, 4251, 2218, 7494, 3436, 2152, 2643, 5969,\n",
       "       7917, 1569, 7143, 5453, 5493, 6175, 6179, 3447, 3917, 6262, 4458,\n",
       "       5891, 2215, 3074,  289, 5574, 1219, 1748,  494, 6216, 5589, 5605,\n",
       "       4058, 1504, 4557, 6659, 1464, 2510,  934,  199,  937, 8048, 6206,\n",
       "       1472, 6684, 6303, 5077, 3241, 4615,  413, 3371, 8355, 7265, 1744,\n",
       "       6184, 2514, 7773, 6170, 6164, 6149, 5185, 5190, 5191, 4224,  711,\n",
       "       6123, 6322, 7211, 2237,  347, 2696, 4371, 4388,  652, 3031,  590,\n",
       "       2740, 6940, 2268, 1548, 2280, 2375, 5527,  485, 6591, 4497, 2306,\n",
       "       7474, 1636])"
      ]
     },
     "execution_count": 43,
     "metadata": {},
     "output_type": "execute_result"
    }
   ],
   "source": [
    "c = np.argpartition(a, -200)[-200:]\n",
    "c"
   ]
  },
  {
   "cell_type": "code",
   "execution_count": 48,
   "metadata": {},
   "outputs": [
    {
     "data": {
      "text/plain": [
       "8415"
      ]
     },
     "execution_count": 48,
     "metadata": {},
     "output_type": "execute_result"
    }
   ],
   "source": [
    "feat_data.shape[1]"
   ]
  },
  {
   "cell_type": "code",
   "execution_count": 57,
   "metadata": {},
   "outputs": [
    {
     "data": {
      "text/plain": [
       "[4, 2, 0, 9, 3]"
      ]
     },
     "execution_count": 57,
     "metadata": {},
     "output_type": "execute_result"
    }
   ],
   "source": [
    "random.sample(range(10),5)\n"
   ]
  },
  {
   "cell_type": "code",
   "execution_count": 58,
   "metadata": {},
   "outputs": [
    {
     "data": {
      "text/plain": [
       "[5, 1, 3, 9, 2]"
      ]
     },
     "execution_count": 58,
     "metadata": {},
     "output_type": "execute_result"
    }
   ],
   "source": [
    "random.sample(range(10),5)\n"
   ]
  },
  {
   "cell_type": "code",
   "execution_count": 59,
   "metadata": {},
   "outputs": [],
   "source": [
    "random.seed(10)\n",
    "a = random.sample(range(feat_data.shape[1]),int(feat_data.shape[1]*0.1))\n"
   ]
  },
  {
   "cell_type": "code",
   "execution_count": 62,
   "metadata": {},
   "outputs": [],
   "source": [
    "b = feat_data[:,a]"
   ]
  },
  {
   "cell_type": "code",
   "execution_count": 65,
   "metadata": {},
   "outputs": [
    {
     "data": {
      "text/plain": [
       "'/home/zhihao/Document/gnn_fd/graphSage/split/multihead/NCGNN_reorderedge'"
      ]
     },
     "execution_count": 65,
     "metadata": {},
     "output_type": "execute_result"
    }
   ],
   "source": [
    "pwd"
   ]
  },
  {
   "cell_type": "code",
   "execution_count": null,
   "metadata": {},
   "outputs": [],
   "source": []
  },
  {
   "cell_type": "code",
   "execution_count": 45,
   "metadata": {},
   "outputs": [
    {
     "data": {
      "text/plain": [
       "(34493, 8415)"
      ]
     },
     "execution_count": 45,
     "metadata": {},
     "output_type": "execute_result"
    }
   ],
   "source": [
    "feat_data.shape"
   ]
  },
  {
   "cell_type": "code",
   "execution_count": 7,
   "metadata": {},
   "outputs": [
    {
     "name": "stdout",
     "output_type": "stream",
     "text": [
      "53\n",
      "42\n",
      "47\n",
      "33\n",
      "48\n"
     ]
    }
   ],
   "source": [
    "\n",
    "results_mlp_r = []\n",
    "    \n",
    "for seed in range(5):\n",
    "    import torch\n",
    "    from torch import nn\n",
    "    from torch.nn import ReLU\n",
    "    \n",
    "    from torch.autograd import Variable\n",
    "    from sklearn.metrics import f1_score,accuracy_score\n",
    "    import glob\n",
    "    import os\n",
    "    import time\n",
    "    batch_size = 128\n",
    "    t_total = time.time()\n",
    "    loss_values = []\n",
    "    loss_train = []\n",
    "    bad_counter = 0\n",
    "    epochs = 200\n",
    "    best = epochs + 1\n",
    "    best_epoch = 0   \n",
    "    temp_path = './academic_phy/'\n",
    "    patience = 5\n",
    "    num_class = 5\n",
    "    hidden_num = 128\n",
    "    lr = 0.0001\n",
    "    #results = []\n",
    "    training_adjs,valid_adjs,training,validation,testing = get_training_adj_lists(labels,full_adjs,seed)\n",
    "    class MLPModel(nn.Module):\n",
    "        def __init__(self,num_classes,hidden_dim,feature_dim):\n",
    "            super(MLPModel,self).__init__()\n",
    "            self.hidden = nn.Linear(feature_dim,hidden_dim)\n",
    "            self.layer = nn.Linear(hidden_dim,num_classes)\n",
    "            self.xent = nn.CrossEntropyLoss()\n",
    "            self.act1 = ReLU()\n",
    "        def forward(self,nodes):\n",
    "            X = self.hidden(nodes)\n",
    "            X = self.act1(X)\n",
    "            scores = self.layer(X)\n",
    "            return scores\n",
    "        def loss(self,nodes,labels):\n",
    "            scores = self.forward(nodes)\n",
    "            return self.xent(scores,labels.squeeze())\n",
    "        \n",
    "    mlp = MLPModel(num_class,hidden_num,feat_data_half.shape[1] )\n",
    "    optimizer = torch.optim.Adam(filter(lambda p: p.requires_grad, mlp.parameters()), lr=lr)\n",
    "    \n",
    "    \n",
    "    for epoch in range(epochs):\n",
    "        random.shuffle(training)\n",
    "        num_batches = int(len(training) / batch_size) + 1\n",
    "        train_losses = []\n",
    "        start_time = time.time()\n",
    "        for batch in range(num_batches):   \n",
    "            i_start = batch * batch_size\n",
    "            i_end = min((batch + 1) * batch_size, len(training))\n",
    "            batch_nodes = training[i_start:i_end]\n",
    "            \n",
    "            optimizer.zero_grad()\n",
    "            loss = mlp.loss(Variable(torch.Tensor(feat_data_half[np.array(batch_nodes)])),Variable(torch.LongTensor(labels[np.array(batch_nodes)])))\n",
    "            \n",
    "            train_losses.append(loss.data.item())\n",
    "            loss.backward()\n",
    "            optimizer.step()\n",
    "    \n",
    "        \n",
    "        num_batches_valid = int(len(validation) / batch_size) \n",
    "        valid_losses = []\n",
    "        for batch in range(num_batches_valid):\n",
    "            i_start = batch * batch_size\n",
    "            i_end = min((batch + 1) * batch_size, len(validation))\n",
    "            batch_nodes = validation[i_start:i_end]\n",
    "    \n",
    "            loss = mlp.loss(Variable(torch.Tensor(feat_data_half[np.array(batch_nodes)])),Variable(torch.LongTensor(labels[np.array(batch_nodes)])))\n",
    "            \n",
    "            valid_losses.append(loss.data.item())\n",
    "       \n",
    "        \n",
    "        loss_train.append(np.average(train_losses))\n",
    "        loss_values.append(np.average(valid_losses))\n",
    "        torch.save(mlp.state_dict(),temp_path+'{}.pkl'.format(epoch))\n",
    "        if loss_values[-1] < best:\n",
    "            best = loss_values[-1]\n",
    "            best_epoch = epoch \n",
    "            bad_counter = 0\n",
    "        else:\n",
    "            bad_counter += 1\n",
    "        if bad_counter == patience:\n",
    "            break\n",
    "        files = glob.glob(temp_path+'*.pkl')\n",
    "        for file in files:\n",
    "            epoch_nb = int(file[len(temp_path):].split('.')[0])\n",
    "            if epoch_nb < best_epoch:\n",
    "                os.remove(file)\n",
    "    files = glob.glob(temp_path+'*.pkl')\n",
    "    for file in files:\n",
    "        epoch_nb = int(file[len(temp_path):].split('.')[0])\n",
    "        if epoch_nb > best_epoch:\n",
    "            os.remove(file)\n",
    "    #print(\"Optimization Finished!\")\n",
    "    #print(\"Total time elapsed: {:.4f}s\".format(time.time() - t_total))\n",
    "    mlp.load_state_dict(torch.load(temp_path+'{}.pkl'.format(best_epoch)))        \n",
    "    print(best_epoch)\n",
    "    \n",
    "    num_batches_test = int(len(testing) / batch_size) \n",
    "    test_outputs = []\n",
    "    test_labels = []\n",
    "    for batch in range(num_batches_test):\n",
    "        i_start = batch * batch_size\n",
    "        i_end = (batch + 1) * batch_size\n",
    "        batch_nodes = testing[i_start:i_end]\n",
    "        test_output = torch.zeros(batch_size,num_class)\n",
    "        for i in range(3):\n",
    "            test_output = test_output + mlp.forward(torch.Tensor(feat_data_half[np.array(batch_nodes)]))\n",
    "        \n",
    "        test_outputs.extend(list(test_output.data.cpu().numpy().argmax(axis=1)))\n",
    "        test_labels.extend(list(labels[batch_nodes]))\n",
    "        \n",
    "    accuracy_score(test_labels,test_outputs)\n",
    "    results_mlp_r.append([loss_train,loss_values,accuracy_score(test_labels,test_outputs)])"
   ]
  },
  {
   "cell_type": "code",
   "execution_count": 9,
   "metadata": {},
   "outputs": [
    {
     "ename": "KeyboardInterrupt",
     "evalue": "",
     "output_type": "error",
     "traceback": [
      "\u001b[0;31m---------------------------------------------------------------------------\u001b[0m",
      "\u001b[0;31mKeyboardInterrupt\u001b[0m                         Traceback (most recent call last)",
      "\u001b[0;32m<ipython-input-9-fbae3bbe1abb>\u001b[0m in \u001b[0;36m<module>\u001b[0;34m\u001b[0m\n\u001b[1;32m     28\u001b[0m     \u001b[0mres\u001b[0m \u001b[0;34m=\u001b[0m \u001b[0mtrain_1\u001b[0m\u001b[0;34m(\u001b[0m\u001b[0;32mFalse\u001b[0m\u001b[0;34m,\u001b[0m\u001b[0;32mTrue\u001b[0m\u001b[0;34m,\u001b[0m\u001b[0mfeat_data_half\u001b[0m\u001b[0;34m,\u001b[0m\u001b[0mlabels\u001b[0m\u001b[0;34m,\u001b[0m\u001b[0mnew_adjs\u001b[0m\u001b[0;34m,\u001b[0m\u001b[0mnew_training_adjs\u001b[0m\u001b[0;34m,\u001b[0m\u001b[0mnew_adjs\u001b[0m\u001b[0;34m,\u001b[0m\u001b[0mtraining\u001b[0m\u001b[0;34m,\u001b[0m\u001b[0mvalidation\u001b[0m\u001b[0;34m,\u001b[0m\u001b[0mtesting\u001b[0m\u001b[0;34m,\u001b[0m\u001b[0;36m10\u001b[0m\u001b[0;34m,\u001b[0m\u001b[0;36m20\u001b[0m\u001b[0;34m,\u001b[0m\u001b[0;36m0\u001b[0m\u001b[0;34m,\u001b[0m\u001b[0;36m100\u001b[0m\u001b[0;34m,\u001b[0m\u001b[0;36m5\u001b[0m\u001b[0;34m,\u001b[0m\u001b[0;36m5\u001b[0m\u001b[0;34m,\u001b[0m\u001b[0;34m'./academic_phy/'\u001b[0m\u001b[0;34m,\u001b[0m\u001b[0mhidden\u001b[0m\u001b[0;34m=\u001b[0m\u001b[0;36m128\u001b[0m\u001b[0;34m,\u001b[0m\u001b[0mlr\u001b[0m\u001b[0;34m=\u001b[0m\u001b[0;36m0.00003\u001b[0m\u001b[0;34m,\u001b[0m\u001b[0mbatch_size\u001b[0m\u001b[0;34m=\u001b[0m\u001b[0;36m128\u001b[0m\u001b[0;34m)\u001b[0m\u001b[0;34m\u001b[0m\u001b[0;34m\u001b[0m\u001b[0m\n\u001b[1;32m     29\u001b[0m     \u001b[0;32mfor\u001b[0m \u001b[0mi\u001b[0m \u001b[0;32min\u001b[0m \u001b[0mrange\u001b[0m\u001b[0;34m(\u001b[0m\u001b[0;36m3\u001b[0m\u001b[0;34m,\u001b[0m\u001b[0;36m6\u001b[0m\u001b[0;34m)\u001b[0m\u001b[0;34m:\u001b[0m\u001b[0;34m\u001b[0m\u001b[0;34m\u001b[0m\u001b[0m\n\u001b[0;32m---> 30\u001b[0;31m         \u001b[0mtemp\u001b[0m \u001b[0;34m=\u001b[0m \u001b[0mtrain_1\u001b[0m\u001b[0;34m(\u001b[0m\u001b[0;32mFalse\u001b[0m\u001b[0;34m,\u001b[0m\u001b[0;32mTrue\u001b[0m\u001b[0;34m,\u001b[0m\u001b[0mfeat_data_half\u001b[0m\u001b[0;34m,\u001b[0m\u001b[0mlabels\u001b[0m\u001b[0;34m,\u001b[0m\u001b[0mnew_adjs\u001b[0m\u001b[0;34m,\u001b[0m\u001b[0mnew_training_adjs\u001b[0m\u001b[0;34m,\u001b[0m\u001b[0mnew_adjs\u001b[0m\u001b[0;34m,\u001b[0m\u001b[0mtraining\u001b[0m\u001b[0;34m,\u001b[0m\u001b[0mvalidation\u001b[0m\u001b[0;34m,\u001b[0m\u001b[0mtesting\u001b[0m\u001b[0;34m,\u001b[0m\u001b[0;36m10\u001b[0m\u001b[0;34m,\u001b[0m\u001b[0;36m20\u001b[0m\u001b[0;34m,\u001b[0m\u001b[0;36m1\u001b[0m\u001b[0;34m*\u001b[0m\u001b[0mi\u001b[0m\u001b[0;34m,\u001b[0m\u001b[0;36m100\u001b[0m\u001b[0;34m,\u001b[0m\u001b[0;36m5\u001b[0m\u001b[0;34m,\u001b[0m\u001b[0;36m5\u001b[0m\u001b[0;34m,\u001b[0m\u001b[0;34m'./academic_phy/'\u001b[0m\u001b[0;34m,\u001b[0m\u001b[0mhidden\u001b[0m\u001b[0;34m=\u001b[0m\u001b[0;36m128\u001b[0m\u001b[0;34m,\u001b[0m\u001b[0mlr\u001b[0m\u001b[0;34m=\u001b[0m\u001b[0;36m0.00003\u001b[0m\u001b[0;34m,\u001b[0m\u001b[0mbatch_size\u001b[0m\u001b[0;34m=\u001b[0m\u001b[0;36m128\u001b[0m\u001b[0;34m)\u001b[0m\u001b[0;34m\u001b[0m\u001b[0;34m\u001b[0m\u001b[0m\n\u001b[0m\u001b[1;32m     31\u001b[0m         \u001b[0;32mif\u001b[0m \u001b[0mres\u001b[0m\u001b[0;34m[\u001b[0m\u001b[0;36m2\u001b[0m\u001b[0;34m]\u001b[0m \u001b[0;34m<\u001b[0m \u001b[0mtemp\u001b[0m\u001b[0;34m[\u001b[0m\u001b[0;36m2\u001b[0m\u001b[0;34m]\u001b[0m\u001b[0;34m:\u001b[0m\u001b[0;34m\u001b[0m\u001b[0;34m\u001b[0m\u001b[0m\n\u001b[1;32m     32\u001b[0m             \u001b[0mres\u001b[0m \u001b[0;34m=\u001b[0m \u001b[0mtemp\u001b[0m\u001b[0;34m\u001b[0m\u001b[0;34m\u001b[0m\u001b[0m\n",
      "\u001b[0;32m~/Downloads/Document/gnn_fd/graphSage/split/multihead/train.py\u001b[0m in \u001b[0;36mtrain_1\u001b[0;34m(cuda, gcn, feat_data, labels, adj_lists, adj_lists_new, valid_adjs, train, valid, test, num_sample_1, num_sample_2, beta_1, epochs, patience, num_class, temp_path, hidden, lr, batch_size)\u001b[0m\n\u001b[1;32m     82\u001b[0m                 \u001b[0mloss\u001b[0m \u001b[0;34m=\u001b[0m \u001b[0mgraphsage\u001b[0m\u001b[0;34m.\u001b[0m\u001b[0mloss\u001b[0m\u001b[0;34m(\u001b[0m\u001b[0mbatch_nodes\u001b[0m\u001b[0;34m,\u001b[0m\u001b[0mvalid_adjs\u001b[0m\u001b[0;34m,\u001b[0m\u001b[0mVariable\u001b[0m\u001b[0;34m(\u001b[0m\u001b[0mtorch\u001b[0m\u001b[0;34m.\u001b[0m\u001b[0mcuda\u001b[0m\u001b[0;34m.\u001b[0m\u001b[0mLongTensor\u001b[0m\u001b[0;34m(\u001b[0m\u001b[0mlabels\u001b[0m\u001b[0;34m[\u001b[0m\u001b[0mnp\u001b[0m\u001b[0;34m.\u001b[0m\u001b[0marray\u001b[0m\u001b[0;34m(\u001b[0m\u001b[0mbatch_nodes\u001b[0m\u001b[0;34m)\u001b[0m\u001b[0;34m]\u001b[0m\u001b[0;34m)\u001b[0m\u001b[0;34m)\u001b[0m\u001b[0;34m)\u001b[0m\u001b[0;34m\u001b[0m\u001b[0;34m\u001b[0m\u001b[0m\n\u001b[1;32m     83\u001b[0m             \u001b[0;32melse\u001b[0m\u001b[0;34m:\u001b[0m\u001b[0;34m\u001b[0m\u001b[0;34m\u001b[0m\u001b[0m\n\u001b[0;32m---> 84\u001b[0;31m                 \u001b[0mloss\u001b[0m \u001b[0;34m=\u001b[0m \u001b[0mgraphsage\u001b[0m\u001b[0;34m.\u001b[0m\u001b[0mloss\u001b[0m\u001b[0;34m(\u001b[0m\u001b[0mbatch_nodes\u001b[0m\u001b[0;34m,\u001b[0m\u001b[0mvalid_adjs\u001b[0m\u001b[0;34m,\u001b[0m\u001b[0mVariable\u001b[0m\u001b[0;34m(\u001b[0m\u001b[0mtorch\u001b[0m\u001b[0;34m.\u001b[0m\u001b[0mLongTensor\u001b[0m\u001b[0;34m(\u001b[0m\u001b[0mlabels\u001b[0m\u001b[0;34m[\u001b[0m\u001b[0mnp\u001b[0m\u001b[0;34m.\u001b[0m\u001b[0marray\u001b[0m\u001b[0;34m(\u001b[0m\u001b[0mbatch_nodes\u001b[0m\u001b[0;34m)\u001b[0m\u001b[0;34m]\u001b[0m\u001b[0;34m)\u001b[0m\u001b[0;34m)\u001b[0m\u001b[0;34m)\u001b[0m\u001b[0;34m\u001b[0m\u001b[0;34m\u001b[0m\u001b[0m\n\u001b[0m\u001b[1;32m     85\u001b[0m \u001b[0;34m\u001b[0m\u001b[0m\n\u001b[1;32m     86\u001b[0m             \u001b[0mvalid_losses\u001b[0m\u001b[0;34m.\u001b[0m\u001b[0mappend\u001b[0m\u001b[0;34m(\u001b[0m\u001b[0mloss\u001b[0m\u001b[0;34m.\u001b[0m\u001b[0mdata\u001b[0m\u001b[0;34m.\u001b[0m\u001b[0mitem\u001b[0m\u001b[0;34m(\u001b[0m\u001b[0;34m)\u001b[0m\u001b[0;34m)\u001b[0m\u001b[0;34m\u001b[0m\u001b[0;34m\u001b[0m\u001b[0m\n",
      "\u001b[0;32m~/Downloads/Document/gnn_fd/graphSage/split/multihead/model.py\u001b[0m in \u001b[0;36mloss\u001b[0;34m(self, nodes, adj_lists, labels)\u001b[0m\n\u001b[1;32m     35\u001b[0m \u001b[0;34m\u001b[0m\u001b[0m\n\u001b[1;32m     36\u001b[0m     \u001b[0;32mdef\u001b[0m \u001b[0mloss\u001b[0m\u001b[0;34m(\u001b[0m\u001b[0mself\u001b[0m\u001b[0;34m,\u001b[0m \u001b[0mnodes\u001b[0m\u001b[0;34m,\u001b[0m\u001b[0madj_lists\u001b[0m\u001b[0;34m,\u001b[0m \u001b[0mlabels\u001b[0m\u001b[0;34m)\u001b[0m\u001b[0;34m:\u001b[0m\u001b[0;34m\u001b[0m\u001b[0;34m\u001b[0m\u001b[0m\n\u001b[0;32m---> 37\u001b[0;31m         \u001b[0mscores\u001b[0m \u001b[0;34m=\u001b[0m \u001b[0mself\u001b[0m\u001b[0;34m.\u001b[0m\u001b[0mforward\u001b[0m\u001b[0;34m(\u001b[0m\u001b[0mnodes\u001b[0m\u001b[0;34m,\u001b[0m\u001b[0madj_lists\u001b[0m\u001b[0;34m)\u001b[0m\u001b[0;34m\u001b[0m\u001b[0;34m\u001b[0m\u001b[0m\n\u001b[0m\u001b[1;32m     38\u001b[0m         \u001b[0;32mreturn\u001b[0m \u001b[0mself\u001b[0m\u001b[0;34m.\u001b[0m\u001b[0mxent\u001b[0m\u001b[0;34m(\u001b[0m\u001b[0mscores\u001b[0m\u001b[0;34m,\u001b[0m \u001b[0mlabels\u001b[0m\u001b[0;34m.\u001b[0m\u001b[0msqueeze\u001b[0m\u001b[0;34m(\u001b[0m\u001b[0;34m)\u001b[0m\u001b[0;34m)\u001b[0m\u001b[0;34m\u001b[0m\u001b[0;34m\u001b[0m\u001b[0m\n\u001b[1;32m     39\u001b[0m \u001b[0;34m\u001b[0m\u001b[0m\n",
      "\u001b[0;32m~/Downloads/Document/gnn_fd/graphSage/split/multihead/model.py\u001b[0m in \u001b[0;36mforward\u001b[0;34m(self, nodes, adj_lists)\u001b[0m\n\u001b[1;32m     29\u001b[0m \u001b[0;34m\u001b[0m\u001b[0m\n\u001b[1;32m     30\u001b[0m     \u001b[0;32mdef\u001b[0m \u001b[0mforward\u001b[0m\u001b[0;34m(\u001b[0m\u001b[0mself\u001b[0m\u001b[0;34m,\u001b[0m \u001b[0mnodes\u001b[0m\u001b[0;34m,\u001b[0m\u001b[0madj_lists\u001b[0m\u001b[0;34m)\u001b[0m\u001b[0;34m:\u001b[0m\u001b[0;34m\u001b[0m\u001b[0;34m\u001b[0m\u001b[0m\n\u001b[0;32m---> 31\u001b[0;31m         \u001b[0membeds\u001b[0m \u001b[0;34m=\u001b[0m \u001b[0mself\u001b[0m\u001b[0;34m.\u001b[0m\u001b[0menc\u001b[0m\u001b[0;34m(\u001b[0m\u001b[0mnodes\u001b[0m\u001b[0;34m,\u001b[0m\u001b[0madj_lists\u001b[0m\u001b[0;34m)\u001b[0m\u001b[0;34m\u001b[0m\u001b[0;34m\u001b[0m\u001b[0m\n\u001b[0m\u001b[1;32m     32\u001b[0m         \u001b[0;31m#print(embeds.shape)\u001b[0m\u001b[0;34m\u001b[0m\u001b[0;34m\u001b[0m\u001b[0;34m\u001b[0m\u001b[0m\n\u001b[1;32m     33\u001b[0m         \u001b[0mscores\u001b[0m \u001b[0;34m=\u001b[0m \u001b[0mself\u001b[0m\u001b[0;34m.\u001b[0m\u001b[0mweight\u001b[0m\u001b[0;34m.\u001b[0m\u001b[0mmm\u001b[0m\u001b[0;34m(\u001b[0m\u001b[0membeds\u001b[0m\u001b[0;34m)\u001b[0m\u001b[0;34m\u001b[0m\u001b[0;34m\u001b[0m\u001b[0m\n",
      "\u001b[0;32m~/anaconda3/envs/forgnn/lib/python3.8/site-packages/torch/nn/modules/module.py\u001b[0m in \u001b[0;36m_call_impl\u001b[0;34m(self, *input, **kwargs)\u001b[0m\n\u001b[1;32m   1049\u001b[0m         if not (self._backward_hooks or self._forward_hooks or self._forward_pre_hooks or _global_backward_hooks\n\u001b[1;32m   1050\u001b[0m                 or _global_forward_hooks or _global_forward_pre_hooks):\n\u001b[0;32m-> 1051\u001b[0;31m             \u001b[0;32mreturn\u001b[0m \u001b[0mforward_call\u001b[0m\u001b[0;34m(\u001b[0m\u001b[0;34m*\u001b[0m\u001b[0minput\u001b[0m\u001b[0;34m,\u001b[0m \u001b[0;34m**\u001b[0m\u001b[0mkwargs\u001b[0m\u001b[0;34m)\u001b[0m\u001b[0;34m\u001b[0m\u001b[0;34m\u001b[0m\u001b[0m\n\u001b[0m\u001b[1;32m   1052\u001b[0m         \u001b[0;31m# Do not call functions when jit is used\u001b[0m\u001b[0;34m\u001b[0m\u001b[0;34m\u001b[0m\u001b[0;34m\u001b[0m\u001b[0m\n\u001b[1;32m   1053\u001b[0m         \u001b[0mfull_backward_hooks\u001b[0m\u001b[0;34m,\u001b[0m \u001b[0mnon_full_backward_hooks\u001b[0m \u001b[0;34m=\u001b[0m \u001b[0;34m[\u001b[0m\u001b[0;34m]\u001b[0m\u001b[0;34m,\u001b[0m \u001b[0;34m[\u001b[0m\u001b[0;34m]\u001b[0m\u001b[0;34m\u001b[0m\u001b[0;34m\u001b[0m\u001b[0m\n",
      "\u001b[0;32m~/Downloads/Document/gnn_fd/graphSage/split/multihead/encoders.py\u001b[0m in \u001b[0;36mforward\u001b[0;34m(self, nodes, adj_lists)\u001b[0m\n\u001b[1;32m    115\u001b[0m         \u001b[0;32melse\u001b[0m\u001b[0;34m:\u001b[0m\u001b[0;34m\u001b[0m\u001b[0;34m\u001b[0m\u001b[0m\n\u001b[1;32m    116\u001b[0m             \u001b[0mcombined\u001b[0m \u001b[0;34m=\u001b[0m \u001b[0mneigh_feats\u001b[0m\u001b[0;34m\u001b[0m\u001b[0;34m\u001b[0m\u001b[0m\n\u001b[0;32m--> 117\u001b[0;31m         \u001b[0mcombined\u001b[0m \u001b[0;34m=\u001b[0m \u001b[0mF\u001b[0m\u001b[0;34m.\u001b[0m\u001b[0mrelu\u001b[0m\u001b[0;34m(\u001b[0m\u001b[0mself\u001b[0m\u001b[0;34m.\u001b[0m\u001b[0mweight\u001b[0m\u001b[0;34m.\u001b[0m\u001b[0mmm\u001b[0m\u001b[0;34m(\u001b[0m\u001b[0mcombined\u001b[0m\u001b[0;34m.\u001b[0m\u001b[0mt\u001b[0m\u001b[0;34m(\u001b[0m\u001b[0;34m)\u001b[0m\u001b[0;34m)\u001b[0m\u001b[0;34m)\u001b[0m\u001b[0;34m\u001b[0m\u001b[0;34m\u001b[0m\u001b[0m\n\u001b[0m\u001b[1;32m    118\u001b[0m         \u001b[0;31m#print(combined.shape)\u001b[0m\u001b[0;34m\u001b[0m\u001b[0;34m\u001b[0m\u001b[0;34m\u001b[0m\u001b[0m\n\u001b[1;32m    119\u001b[0m         \u001b[0;32mreturn\u001b[0m \u001b[0mcombined\u001b[0m\u001b[0;34m\u001b[0m\u001b[0;34m\u001b[0m\u001b[0m\n",
      "\u001b[0;31mKeyboardInterrupt\u001b[0m: "
     ]
    }
   ],
   "source": [
    "results_sagegcn_best_r = []\n",
    "for seed in range(10):\n",
    "    training_adjs,valid_adjs,training,validation,testing = get_training_adj_lists(labels,full_adjs,seed)\n",
    "    \n",
    "    new_adjs = {}\n",
    "    for key in full_adjs:\n",
    "        neighbs_set = full_adjs[key] | set([key])\n",
    "        n_list = []\n",
    "        for node in neighbs_set:\n",
    "            n_list.extend(full_adjs[node] & neighbs_set)\n",
    "        new_adjs[key] = set()\n",
    "        \n",
    "        neighbs_set.remove(key)\n",
    "        for node in neighbs_set:\n",
    "            new_adjs[key].add((node,n_list.count(node)))\n",
    "    new_training_adjs = {}\n",
    "    for key in training_adjs:\n",
    "        neighbs_set = training_adjs[key] | set([key])\n",
    "        n_list = []\n",
    "        for node in neighbs_set:\n",
    "            n_list.extend(training_adjs[node] & neighbs_set)\n",
    "        new_training_adjs[key] = set()\n",
    "        \n",
    "        neighbs_set.remove(key)\n",
    "        for node in neighbs_set:\n",
    "            new_training_adjs[key].add((node,n_list.count(node)))\n",
    "            \n",
    "    res = train_1(False,True,feat_data_half,labels,new_adjs,new_training_adjs,new_adjs,training,validation,testing,10,20,0,100,5,5,'./academic_phy/',hidden=128,lr=0.00003,batch_size=128)   \n",
    "    for i in range(3,6):\n",
    "        temp = train_1(False,True,feat_data_half,labels,new_adjs,new_training_adjs,new_adjs,training,validation,testing,10,20,1*i,100,5,5,'./academic_phy/',hidden=128,lr=0.00003,batch_size=128)\n",
    "        if res[2] < temp[2]:\n",
    "            res = temp \n",
    "    \n",
    "    results_sagegcn_best_r.append(res)\n",
    "\n",
    "\n",
    "\n",
    "\n",
    "\n",
    "\n",
    "\n",
    "\n"
   ]
  },
  {
   "cell_type": "code",
   "execution_count": null,
   "metadata": {},
   "outputs": [],
   "source": [
    "results_sagegcn_0_r = []\n",
    "for seed in range(10):\n",
    "    training_adjs,valid_adjs,training,validation,testing = get_training_adj_lists(labels,full_adjs,seed)\n",
    "    #full_adjs,training_adjs,valid_adjs,training,validation,testing = get_training_adj_lists(labels,adj,seed)\n",
    "    \n",
    "    new_adjs = {}\n",
    "    for key in full_adjs:\n",
    "        neighbs_set = full_adjs[key] | set([key])\n",
    "        n_list = []\n",
    "        for node in neighbs_set:\n",
    "            n_list.extend(full_adjs[node] & neighbs_set)\n",
    "        new_adjs[key] = set()\n",
    "        \n",
    "        neighbs_set.remove(key)\n",
    "        for node in neighbs_set:\n",
    "            new_adjs[key].add((node,n_list.count(node)))\n",
    "    new_training_adjs = {}\n",
    "    for key in training_adjs:\n",
    "        neighbs_set = training_adjs[key] | set([key])\n",
    "        n_list = []\n",
    "        for node in neighbs_set:\n",
    "            n_list.extend(training_adjs[node] & neighbs_set)\n",
    "        new_training_adjs[key] = set()\n",
    "        \n",
    "        neighbs_set.remove(key)\n",
    "        for node in neighbs_set:\n",
    "            new_training_adjs[key].add((node,n_list.count(node)))\n",
    "    \n",
    "    results_sagegcn_0_r.append(train_1(False,True,feat_data_half,labels,new_adjs,new_training_adjs,new_adjs,training,validation,testing,10,20,0,100,5,5,'./academic_phy/',hidden=128,lr=0.00003,batch_size=128)\n",
    ")"
   ]
  },
  {
   "cell_type": "code",
   "execution_count": 13,
   "metadata": {},
   "outputs": [
    {
     "data": {
      "text/plain": [
       "[0.9582841981132075,\n",
       " 0.9638856132075472,\n",
       " 0.9612323113207547,\n",
       " 0.9613797169811321,\n",
       " 0.9599056603773585]"
      ]
     },
     "execution_count": 13,
     "metadata": {},
     "output_type": "execute_result"
    }
   ],
   "source": [
    "a = []\n",
    "for i in results_mlp_r:\n",
    "    a.append(i[2])\n",
    "(a)"
   ]
  },
  {
   "cell_type": "code",
   "execution_count": 12,
   "metadata": {},
   "outputs": [],
   "source": [
    "d_coauther_phy_mlp = [0.9641804245283019,\n",
    " 0.9669811320754716,\n",
    " 0.9683077830188679,\n",
    " 0.9696344339622641,\n",
    " 0.9694870283018868,\n",
    " 0.9674233490566038,\n",
    " 0.9668337264150944,\n",
    " 0.9659492924528302,\n",
    " 0.9662441037735849,\n",
    " 0.9660966981132075]"
   ]
  },
  {
   "cell_type": "code",
   "execution_count": 9,
   "metadata": {},
   "outputs": [
    {
     "data": {
      "text/plain": [
       "[[1.1488490546191181,\n",
       "  0.6941068179813432,\n",
       "  0.488878368779465,\n",
       "  0.3821711887915929,\n",
       "  0.31849151187472874,\n",
       "  0.2784036099910736,\n",
       "  0.25109413588120616,\n",
       "  0.2321576543704227,\n",
       "  0.2179706219445776,\n",
       "  0.2055887456661389,\n",
       "  0.19649840459043597,\n",
       "  0.18868669642158498,\n",
       "  0.18271795812028427,\n",
       "  0.17666548297361093,\n",
       "  0.17135767689273682,\n",
       "  0.1663269868787424,\n",
       "  0.16328238958009966,\n",
       "  0.15977699254397992,\n",
       "  0.15499381044948543,\n",
       "  0.15126725587487957,\n",
       "  0.14894846311689894,\n",
       "  0.14573772718417055,\n",
       "  0.14223639844100416,\n",
       "  0.14000093840338565,\n",
       "  0.1380157523593049,\n",
       "  0.13497755934058883,\n",
       "  0.1335686946540703,\n",
       "  0.1315490850649866,\n",
       "  0.1284707348195859,\n",
       "  0.1264298248714135,\n",
       "  0.12426280322266214,\n",
       "  0.12215248398758748,\n",
       "  0.12017889451925401,\n",
       "  0.11806386341283351,\n",
       "  0.11547939405765062,\n",
       "  0.11485132041536732,\n",
       "  0.11334375892248419,\n",
       "  0.1115631014338614,\n",
       "  0.10859594766602472],\n",
       " [0.822017472869945,\n",
       "  0.5296413791629503,\n",
       "  0.38851812200726205,\n",
       "  0.31412906016943587,\n",
       "  0.26960176651207907,\n",
       "  0.23993886332466918,\n",
       "  0.22334076660983967,\n",
       "  0.20873298566296417,\n",
       "  0.19944646785844047,\n",
       "  0.1907636749575723,\n",
       "  0.18655230681288917,\n",
       "  0.18192560534994556,\n",
       "  0.17933715711224754,\n",
       "  0.17690830649632328,\n",
       "  0.175027941054893,\n",
       "  0.1700355406358557,\n",
       "  0.16992748599007446,\n",
       "  0.16994489110865682,\n",
       "  0.16718149578796243,\n",
       "  0.16560584601928602,\n",
       "  0.16509438362324014,\n",
       "  0.16323592387280375,\n",
       "  0.1587667718248547,\n",
       "  0.16022047780032428,\n",
       "  0.16198132454224354,\n",
       "  0.15963666633052645,\n",
       "  0.1604268081345648,\n",
       "  0.1586051013953281,\n",
       "  0.15965026518646278,\n",
       "  0.15836138854611595,\n",
       "  0.15919520171745768,\n",
       "  0.15974528771245255,\n",
       "  0.15688131679341477,\n",
       "  0.15365629298788197,\n",
       "  0.15650600623690858,\n",
       "  0.15475231198207387,\n",
       "  0.15681571084654555,\n",
       "  0.15639076480325662,\n",
       "  0.15766062664816965],\n",
       " 0.9519457547169812]"
      ]
     },
     "execution_count": 9,
     "metadata": {},
     "output_type": "execute_result"
    }
   ],
   "source": [
    "    training_adjs,valid_adjs,training,validation,testing = get_training_adj_lists(labels,full_adjs,0)\n",
    "    new_adjs = {}\n",
    "    for key in full_adjs:\n",
    "        neighbs_set = full_adjs[key] | set([key])\n",
    "        n_list = []\n",
    "        for node in neighbs_set:\n",
    "            n_list.extend(full_adjs[node] & neighbs_set)\n",
    "        new_adjs[key] = set()\n",
    "        \n",
    "        neighbs_set.remove(key)\n",
    "        for node in neighbs_set:\n",
    "            new_adjs[key].add((node,n_list.count(node)))\n",
    "    new_training_adjs = {}\n",
    "    for key in training_adjs:\n",
    "        neighbs_set = training_adjs[key] | set([key])\n",
    "        n_list = []\n",
    "        for node in neighbs_set:\n",
    "            n_list.extend(training_adjs[node] & neighbs_set)\n",
    "        new_training_adjs[key] = set()\n",
    "        \n",
    "        neighbs_set.remove(key)\n",
    "        for node in neighbs_set:\n",
    "            new_training_adjs[key].add((node,n_list.count(node)))\n",
    "\n",
    "    train_1(False,True,feat_data_half,labels,new_adjs,new_training_adjs,new_adjs,training,validation,testing,10,20,0,200,5,5,'./academic_phy/',hidden=128,lr=0.0001,batch_size=128)"
   ]
  },
  {
   "cell_type": "code",
   "execution_count": 10,
   "metadata": {},
   "outputs": [
    {
     "data": {
      "text/plain": [
       "0.9528301886792453"
      ]
     },
     "execution_count": 10,
     "metadata": {},
     "output_type": "execute_result"
    }
   ],
   "source": [
    "train_1(False,True,feat_data_half,labels,new_adjs,new_training_adjs,new_adjs,training,validation,testing,10,20,0.5,200,5,5,'./academic_phy/',hidden=128,lr=0.0001,batch_size=128)[2]"
   ]
  },
  {
   "cell_type": "code",
   "execution_count": 11,
   "metadata": {},
   "outputs": [
    {
     "data": {
      "text/plain": [
       "0.9554834905660378"
      ]
     },
     "execution_count": 11,
     "metadata": {},
     "output_type": "execute_result"
    }
   ],
   "source": [
    "train_1(False,True,feat_data_half,labels,new_adjs,new_training_adjs,new_adjs,training,validation,testing,10,20,1,200,5,5,'./academic_phy/',hidden=128,lr=0.0001,batch_size=128)[2]"
   ]
  },
  {
   "cell_type": "code",
   "execution_count": 14,
   "metadata": {},
   "outputs": [
    {
     "data": {
      "text/plain": [
       "0.9612323113207547"
      ]
     },
     "execution_count": 14,
     "metadata": {},
     "output_type": "execute_result"
    }
   ],
   "source": [
    "train_1(False,True,feat_data_half,labels,new_adjs,new_training_adjs,new_adjs,training,validation,testing,10,20,3,200,5,5,'./academic_phy/',hidden=128,lr=0.0001,batch_size=128)[2]"
   ]
  },
  {
   "cell_type": "code",
   "execution_count": 12,
   "metadata": {},
   "outputs": [
    {
     "data": {
      "text/plain": [
       "0.9624115566037735"
      ]
     },
     "execution_count": 12,
     "metadata": {},
     "output_type": "execute_result"
    }
   ],
   "source": [
    "train_1(False,False,feat_data_half,labels,new_adjs,new_training_adjs,new_adjs,training,validation,testing,10,20,3,200,5,5,'./academic_phy/',hidden=128,lr=0.0001,batch_size=128)[2]"
   ]
  },
  {
   "cell_type": "code",
   "execution_count": null,
   "metadata": {},
   "outputs": [],
   "source": []
  },
  {
   "cell_type": "code",
   "execution_count": null,
   "metadata": {},
   "outputs": [],
   "source": []
  },
  {
   "cell_type": "code",
   "execution_count": null,
   "metadata": {},
   "outputs": [],
   "source": []
  },
  {
   "cell_type": "markdown",
   "metadata": {},
   "source": [
    "# concatenation"
   ]
  },
  {
   "cell_type": "code",
   "execution_count": 4,
   "metadata": {},
   "outputs": [],
   "source": [
    "cancat_results_sagegcn_0_1 = []\n",
    "cancat_results_sagegcn_0_2l = []\n",
    "cancat_results_sagegcn_0_3l = []\n",
    "\n",
    "for seed in range(10):\n",
    "    training_adjs,valid_adjs,training,validation,testing = get_training_adj_lists(labels,full_adjs,seed)\n",
    "    \n",
    "    new_adjs = {}\n",
    "    for key in full_adjs:\n",
    "        neighbs_set = full_adjs[key] | set([key])\n",
    "        n_list = []\n",
    "        for node in neighbs_set:\n",
    "            n_list.extend(full_adjs[node] & neighbs_set)\n",
    "        new_adjs[key] = set()\n",
    "        \n",
    "        neighbs_set.remove(key)\n",
    "        for node in neighbs_set:\n",
    "            new_adjs[key].add((node,n_list.count(node)))\n",
    "    new_training_adjs = {}\n",
    "    for key in training_adjs:\n",
    "        neighbs_set = training_adjs[key] | set([key])\n",
    "        n_list = []\n",
    "        for node in neighbs_set:\n",
    "            n_list.extend(training_adjs[node] & neighbs_set)\n",
    "        new_training_adjs[key] = set()\n",
    "        \n",
    "        neighbs_set.remove(key)\n",
    "        for node in neighbs_set:\n",
    "            new_training_adjs[key].add((node,n_list.count(node)))\n",
    "    cancat_results_sagegcn_0_1.append(train_1(False,False,feat_data,labels,new_adjs,new_training_adjs,new_adjs,training,validation,testing,10,10,0,500,5,5,'./academic_phy/',hidden=128,lr=0.00003,batch_size=128))        \n",
    "    #cancat_results_sagegcn_0_2l.append(train_2l(False,False,feat_data,labels,new_adjs,new_training_adjs,new_adjs,training,validation,testing,10,10,0,500,5,5,'./academic_phy/',hidden=128,lr=0.00003,batch_size=128))\n",
    "    #cancat_results_sagegcn_0_3l.append(train_3l(False,False,feat_data,labels,new_adjs,new_training_adjs,new_adjs,training,validation,testing,10,10,0,500,5,5,'./academic_phy/',hidden=128,lr=0.00003,batch_size=128))\n",
    "\n"
   ]
  },
  {
   "cell_type": "code",
   "execution_count": 13,
   "metadata": {},
   "outputs": [],
   "source": [
    "save_list('/home/zhihao/Document/gnn_fd/graphSage/split/multihead/results/coauthor_phy/concat/sage_0_1.pkl',cancat_results_sagegcn_0_1)\n",
    "#save_list('/home/zhihao/Document/gnn_fd/graphSage/split/multihead/results/coauthor_phy/concat/sage_0_2l.pkl',cancat_results_sagegcn_0_2l)\n",
    "#save_list('/home/zhihao/Document/gnn_fd/graphSage/split/multihead/results/coauthor_phy/concat/sage_0_3l.pkl',cancat_results_sagegcn_0_3l)"
   ]
  },
  {
   "cell_type": "code",
   "execution_count": 14,
   "metadata": {},
   "outputs": [
    {
     "data": {
      "text/plain": [
       "9.696786556603774"
      ]
     },
     "execution_count": 14,
     "metadata": {},
     "output_type": "execute_result"
    }
   ],
   "source": [
    "a = []\n",
    "for i in cancat_results_sagegcn_0_1:\n",
    "    a.append(i[2])\n",
    "sum(a)"
   ]
  },
  {
   "cell_type": "code",
   "execution_count": 15,
   "metadata": {},
   "outputs": [
    {
     "data": {
      "text/plain": [
       "0"
      ]
     },
     "execution_count": 15,
     "metadata": {},
     "output_type": "execute_result"
    }
   ],
   "source": [
    "a = []\n",
    "for i in cancat_results_sagegcn_0_2l:\n",
    "    a.append(i[2])\n",
    "sum(a)"
   ]
  },
  {
   "cell_type": "code",
   "execution_count": 16,
   "metadata": {},
   "outputs": [
    {
     "data": {
      "text/plain": [
       "0"
      ]
     },
     "execution_count": 16,
     "metadata": {},
     "output_type": "execute_result"
    }
   ],
   "source": [
    "a = []\n",
    "for i in cancat_results_sagegcn_0_3l:\n",
    "    a.append(i[2])\n",
    "sum(a)"
   ]
  },
  {
   "cell_type": "code",
   "execution_count": null,
   "metadata": {},
   "outputs": [],
   "source": []
  },
  {
   "cell_type": "code",
   "execution_count": 4,
   "metadata": {},
   "outputs": [],
   "source": [
    "cancat_results_sagegcn_best_1 = []\n",
    "cancat_results_sagegcn_best_2l = []\n",
    "cancat_results_sagegcn_best_3l = []\n",
    "for seed in range(10):\n",
    "    training_adjs,valid_adjs,training,validation,testing = get_training_adj_lists(labels,full_adjs,seed)\n",
    "    \n",
    "    new_adjs = {}\n",
    "    for key in full_adjs:\n",
    "        neighbs_set = full_adjs[key] | set([key])\n",
    "        n_list = []\n",
    "        for node in neighbs_set:\n",
    "            n_list.extend(full_adjs[node] & neighbs_set)\n",
    "        new_adjs[key] = set()\n",
    "        \n",
    "        neighbs_set.remove(key)\n",
    "        for node in neighbs_set:\n",
    "            new_adjs[key].add((node,n_list.count(node)))\n",
    "    new_training_adjs = {}\n",
    "    for key in training_adjs:\n",
    "        neighbs_set = training_adjs[key] | set([key])\n",
    "        n_list = []\n",
    "        for node in neighbs_set:\n",
    "            n_list.extend(training_adjs[node] & neighbs_set)\n",
    "        new_training_adjs[key] = set()\n",
    "        \n",
    "        neighbs_set.remove(key)\n",
    "        for node in neighbs_set:\n",
    "            new_training_adjs[key].add((node,n_list.count(node)))\n",
    "            \n",
    "    res = train_1(False,False,feat_data,labels,new_adjs,new_training_adjs,new_adjs,training,validation,testing,10,10,0,500,5,5,'./academic_phy/',hidden=128,lr=0.00003,batch_size=128)   \n",
    "    for i in range(1,6):\n",
    "        temp = train_1(False,False,feat_data,labels,new_adjs,new_training_adjs,new_adjs,training,validation,testing,10,10,1*i,500,5,5,'./academic_phy/',hidden=128,lr=0.00003,batch_size=128)\n",
    "        if res[2] < temp[2]:\n",
    "            res = temp \n",
    "    cancat_results_sagegcn_best_1.append(res)\n",
    "    \n",
    "    #res = train_2l(False,False,feat_data,labels,new_adjs,new_training_adjs,new_adjs,training,validation,testing,10,10,0,500,5,5,'./academic_phy/',hidden=128,lr=0.00003,batch_size=128)   \n",
    "    #for i in range(1,6):\n",
    "    #    temp = train_2l(False,False,feat_data,labels,new_adjs,new_training_adjs,new_adjs,training,validation,testing,10,10,1*i,500,5,5,'./academic_phy/',hidden=128,lr=0.00003,batch_size=128)\n",
    "    #    if res[2] < temp[2]:\n",
    "    #        res = temp \n",
    "    #cancat_results_sagegcn_best_2l.append(res)\n",
    "    #\n",
    "    #res = train_3l(False,False,feat_data,labels,new_adjs,new_training_adjs,new_adjs,training,validation,testing,10,10,0,500,5,5,'./academic_phy/',hidden=128,lr=0.00003,batch_size=128)   \n",
    "    #for i in range(1,6):\n",
    "    #    temp = train_3l(False,False,feat_data,labels,new_adjs,new_training_adjs,new_adjs,training,validation,testing,10,10,1*i,500,5,5,'./academic_phy/',hidden=128,lr=0.00003,batch_size=128)\n",
    "    #    if res[2] < temp[2]:\n",
    "    #        res = temp \n",
    "    #cancat_results_sagegcn_best_3l.append(res)\n"
   ]
  },
  {
   "cell_type": "code",
   "execution_count": 7,
   "metadata": {},
   "outputs": [
    {
     "data": {
      "text/plain": [
       "9.70091391509434"
      ]
     },
     "execution_count": 7,
     "metadata": {},
     "output_type": "execute_result"
    }
   ],
   "source": [
    "a = []\n",
    "for i in cancat_results_sagegcn_best_1:\n",
    "    a.append(i[2])\n",
    "sum(a)"
   ]
  },
  {
   "cell_type": "code",
   "execution_count": 6,
   "metadata": {},
   "outputs": [
    {
     "data": {
      "text/plain": [
       "0"
      ]
     },
     "execution_count": 6,
     "metadata": {},
     "output_type": "execute_result"
    }
   ],
   "source": [
    "a = []\n",
    "for i in cancat_results_sagegcn_best_2l:\n",
    "    a.append(i[2])\n",
    "sum(a)"
   ]
  },
  {
   "cell_type": "code",
   "execution_count": null,
   "metadata": {},
   "outputs": [],
   "source": [
    "a = []\n",
    "for i in cancat_results_sagegcn_best_3l:\n",
    "    a.append(i[2])\n",
    "sum(a)"
   ]
  },
  {
   "cell_type": "code",
   "execution_count": 12,
   "metadata": {},
   "outputs": [],
   "source": [
    "save_list('/home/zhihao/Document/gnn_fd/graphSage/split/multihead/results/coauthor_phy/concat/sage_best_1.pkl',cancat_results_sagegcn_best_1)\n"
   ]
  },
  {
   "cell_type": "code",
   "execution_count": null,
   "metadata": {},
   "outputs": [],
   "source": []
  },
  {
   "cell_type": "code",
   "execution_count": null,
   "metadata": {},
   "outputs": [],
   "source": []
  },
  {
   "cell_type": "code",
   "execution_count": null,
   "metadata": {},
   "outputs": [],
   "source": []
  }
 ],
 "metadata": {
  "kernelspec": {
   "display_name": "Python [conda env:.conda-torch-gpu]",
   "language": "python",
   "name": "conda-env-.conda-torch-gpu-py"
  },
  "language_info": {
   "codemirror_mode": {
    "name": "ipython",
    "version": 3
   },
   "file_extension": ".py",
   "mimetype": "text/x-python",
   "name": "python",
   "nbconvert_exporter": "python",
   "pygments_lexer": "ipython3",
   "version": "3.8.5"
  }
 },
 "nbformat": 4,
 "nbformat_minor": 4
}
