{
 "cells": [
  {
   "cell_type": "code",
   "execution_count": 1,
   "id": "afe3915c-feff-4a7e-9531-8fa1592a2dc0",
   "metadata": {},
   "outputs": [
    {
     "ename": "NameError",
     "evalue": "name 'sys' is not defined",
     "output_type": "error",
     "traceback": [
      "\u001b[0;31m---------------------------------------------------------------------------\u001b[0m",
      "\u001b[0;31mNameError\u001b[0m                                 Traceback (most recent call last)",
      "\u001b[0;32m/tmp/ipykernel_560163/482603232.py\u001b[0m in \u001b[0;36m<module>\u001b[0;34m\u001b[0m\n\u001b[0;32m----> 1\u001b[0;31m \u001b[0msys\u001b[0m\u001b[0;34m.\u001b[0m\u001b[0mpath\u001b[0m\u001b[0;34m[\u001b[0m\u001b[0;36m0\u001b[0m\u001b[0;34m]\u001b[0m\u001b[0;34m\u001b[0m\u001b[0;34m\u001b[0m\u001b[0m\n\u001b[0m",
      "\u001b[0;31mNameError\u001b[0m: name 'sys' is not defined"
     ]
    }
   ],
   "source": [
    "sys.path[0]"
   ]
  },
  {
   "cell_type": "code",
   "execution_count": 2,
   "id": "fe4bc365-fec5-4dcc-9a54-1bf441cf7054",
   "metadata": {},
   "outputs": [],
   "source": [
    "import sys\n"
   ]
  },
  {
   "cell_type": "code",
   "execution_count": null,
   "id": "05d40bbc-609c-46b3-896f-a43dd3b69435",
   "metadata": {},
   "outputs": [],
   "source": []
  },
  {
   "cell_type": "code",
   "execution_count": 5,
   "id": "c7557670-4097-442e-9fff-95b08b9c3387",
   "metadata": {},
   "outputs": [
    {
     "data": {
      "text/plain": [
       "'/home/zhihao/Document/NMI/NC-GNN'"
      ]
     },
     "execution_count": 5,
     "metadata": {},
     "output_type": "execute_result"
    }
   ],
   "source": [
    "pwd"
   ]
  },
  {
   "cell_type": "code",
   "execution_count": 4,
   "id": "3ef8f089-35b3-41e1-abf4-2f3b86f55954",
   "metadata": {},
   "outputs": [
    {
     "data": {
      "text/plain": [
       "['/home/zhihao/Document/NMI/NC-GNN',\n",
       " '/home/winemocol/anaconda3/lib/python37.zip',\n",
       " '/home/winemocol/anaconda3/lib/python3.7',\n",
       " '/home/winemocol/anaconda3/lib/python3.7/lib-dynload',\n",
       " '',\n",
       " '/home/zhihao/.local/lib/python3.7/site-packages',\n",
       " '/home/winemocol/anaconda3/lib/python3.7/site-packages',\n",
       " '/home/winemocol/anaconda3/lib/python3.7/site-packages/IPython/extensions',\n",
       " '/home/zhihao/.ipython']"
      ]
     },
     "execution_count": 4,
     "metadata": {},
     "output_type": "execute_result"
    }
   ],
   "source": [
    "sys.path"
   ]
  },
  {
   "cell_type": "code",
   "execution_count": null,
   "id": "68fd057d-a4fd-4072-89f7-f3fa83f3eeba",
   "metadata": {},
   "outputs": [],
   "source": []
  }
 ],
 "metadata": {
  "kernelspec": {
   "display_name": "Python 3 (ipykernel)",
   "language": "python",
   "name": "python3"
  },
  "language_info": {
   "codemirror_mode": {
    "name": "ipython",
    "version": 3
   },
   "file_extension": ".py",
   "mimetype": "text/x-python",
   "name": "python",
   "nbconvert_exporter": "python",
   "pygments_lexer": "ipython3",
   "version": "3.7.4"
  }
 },
 "nbformat": 4,
 "nbformat_minor": 5
}
